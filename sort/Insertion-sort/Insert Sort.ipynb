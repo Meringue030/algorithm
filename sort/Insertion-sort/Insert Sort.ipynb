{
 "cells": [
  {
   "cell_type": "markdown",
   "metadata": {},
   "source": [
    "#### 삽입정렬\n",
    " * 손안의 카드를 정렬하는 방법과 유사하다\n",
    " * 새로운 카드를 기존의 정렬된 카드 사이의 올바른 자리를 찾아 삽입한다\n",
    " * 새로 삽입될 카드의 수만큼 반복하게 되면 전체 카드가 정렬된다.\n",
    " * 자료 배열의 모든 요소를 앞에서부터 차례대로 이미 정렬된 배열 부분과 비교 하여, 자신의 위치를 찾아 삽입함으로써 정렬을 완성하는 알고리즘\n",
    " * 매 순서마다 해당 원소를 삽입할 수 있는 위치를 찾아 해당 위치에 넣는다\n",
    " \n",
    "[참고] https://gmlwjd9405.github.io/2018/05/06/algorithm-insertion-sort.html\n",
    "\n",
    "변수가 정렬되지 않은 상태로 있을 때 보통 O($n^2$)의 계산 복잡도를 가집"
   ]
  },
  {
   "cell_type": "code",
   "execution_count": 5,
   "metadata": {},
   "outputs": [
    {
     "name": "stdout",
     "output_type": "stream",
     "text": [
      "[1, 2, 3, 4, 5]\n"
     ]
    }
   ],
   "source": [
    "def ins_sort(a):\n",
    "    n = len(a)  #  배열길이\n",
    "    \n",
    "    for i in range(1, n): \n",
    "        # 1부터 n-1까지 # i번 위치의 값을 key로 저장 \n",
    "        key = a[i] \n",
    "        # j를 i 바로 왼쪽 위치로 저장 \n",
    "        j = i - 1 \n",
    "        # 리스트의 j번 위치에 있는 값과 key를 비교해 key가 삽입될 적절한 위치를 찾음 \n",
    "        while j >= 0 and a[j] > key: \n",
    "            a[j + 1] = a[j] # 삽입할 공간이 생기도록 값을 오른쪽으로 한 칸 이동 \n",
    "            j -= 1 \n",
    "            a[j + 1] = key # 찾은 삽입 위치에 key를 저장 \n",
    "            \n",
    "d = [5,4,3,2,1] \n",
    "ins_sort(d) \n",
    "print(d)\n"
   ]
  },
  {
   "cell_type": "code",
   "execution_count": 6,
   "metadata": {},
   "outputs": [
    {
     "name": "stdout",
     "output_type": "stream",
     "text": [
      "1.44 µs ± 19.8 ns per loop (mean ± std. dev. of 7 runs, 1000000 loops each)\n",
      "[1, 2, 3, 4, 5]\n"
     ]
    }
   ],
   "source": [
    "d = [5,4,3,2,1] \n",
    "%timeit ins_sort(d) \n",
    "print(d)"
   ]
  },
  {
   "cell_type": "code",
   "execution_count": 12,
   "metadata": {},
   "outputs": [
    {
     "name": "stdout",
     "output_type": "stream",
     "text": [
      "466 ns ± 15.6 ns per loop (mean ± std. dev. of 7 runs, 1000000 loops each)\n"
     ]
    }
   ],
   "source": [
    "n = 1000\n",
    "d = [x for x in range(n,1)]\n",
    "%timeit ins_sort(d) "
   ]
  },
  {
   "cell_type": "code",
   "execution_count": null,
   "metadata": {},
   "outputs": [],
   "source": []
  }
 ],
 "metadata": {
  "kernelspec": {
   "display_name": "Python 3",
   "language": "python",
   "name": "python3"
  },
  "language_info": {
   "codemirror_mode": {
    "name": "ipython",
    "version": 3
   },
   "file_extension": ".py",
   "mimetype": "text/x-python",
   "name": "python",
   "nbconvert_exporter": "python",
   "pygments_lexer": "ipython3",
   "version": "3.7.4"
  }
 },
 "nbformat": 4,
 "nbformat_minor": 2
}
